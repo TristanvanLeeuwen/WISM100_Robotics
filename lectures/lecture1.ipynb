{
 "cells": [
  {
   "cell_type": "markdown",
   "metadata": {
    "slideshow": {
     "slide_type": "slide"
    }
   },
   "source": [
    "# Lecture 3"
   ]
  },
  {
   "cell_type": "markdown",
   "metadata": {
    "slideshow": {
     "slide_type": "slide"
    }
   },
   "source": [
    "# The story so far\n",
    "\n",
    "* Transform a system of polynomial equations $f_i(x) = 0$ to a *lower diagonal* one, where $f_i$ only depends on $x_1, \\ldots, x_i$.\n",
    "* Solve $f_1(x_1) = 0$, substitute and solve $f_2(x_1^*, x_2)$, etc."
   ]
  },
  {
   "cell_type": "markdown",
   "metadata": {
    "slideshow": {
     "slide_type": "fragment"
    }
   },
   "source": [
    "Today, we focus on the canonical task of scalar root-finding, and the numerical issues that may arise when using it to solve the system of equations by substitution."
   ]
  },
  {
   "cell_type": "markdown",
   "metadata": {
    "slideshow": {
     "slide_type": "slide"
    }
   },
   "source": [
    "# Contents\n",
    "\n",
    "* Scalar root-finding\n",
    "* Finding multiple roots\n",
    "* Computing with finite accuracy\n",
    "* The (in)stability of Gaussian elimination\n"
   ]
  },
  {
   "cell_type": "markdown",
   "metadata": {
    "slideshow": {
     "slide_type": "slide"
    }
   },
   "source": [
    "# Scalar root-finding"
   ]
  },
  {
   "cell_type": "markdown",
   "metadata": {
    "slideshow": {
     "slide_type": "subslide"
    }
   },
   "source": [
    "> Assuming (for the moment) that $f : \\mathbb{R} \\rightarrow \\mathbb{R}$ has at least one real root, how do we find it?"
   ]
  },
  {
   "cell_type": "markdown",
   "metadata": {
    "slideshow": {
     "slide_type": "fragment"
    }
   },
   "source": [
    "* Bisection\n",
    "* Fixed-point iteration\n",
    "* Newton's method"
   ]
  },
  {
   "cell_type": "markdown",
   "metadata": {
    "slideshow": {
     "slide_type": "subslide"
    }
   },
   "source": [
    "## Bi-section\n",
    "\n",
    "* Start with $x_0, x_1$ such that $f(x_0)f(x_1) < 0$\n",
    "* pick $x_2 = (x_0 + x_1) / 2$ and check on which interval the sign changes\n",
    "* repeat"
   ]
  },
  {
   "cell_type": "code",
   "execution_count": 1,
   "metadata": {
    "slideshow": {
     "slide_type": "skip"
    }
   },
   "outputs": [],
   "source": [
    "# copied from: https://personal.math.ubc.ca/~pwalls/math-python/roots-optimization/bisection/\n",
    "\n",
    "def bisection(f,a,b,N):\n",
    "    '''Approximate solution of f(x)=0 on interval [a,b] by bisection method.\n",
    "\n",
    "    Parameters\n",
    "    ----------\n",
    "    f : function\n",
    "        The function for which we are trying to approximate a solution f(x)=0.\n",
    "    a,b : numbers\n",
    "        The interval in which to search for a solution. The function returns\n",
    "        None if f(a)*f(b) >= 0 since a solution is not guaranteed.\n",
    "    N : (positive) integer\n",
    "        The number of iterations to implement.\n",
    "\n",
    "    Returns\n",
    "    -------\n",
    "    x_N : number\n",
    "        The midpoint of the Nth interval computed by the bisection method. The\n",
    "        initial interval [a_0,b_0] is given by [a,b]. If f(m_n) == 0 for some\n",
    "        midpoint m_n = (a_n + b_n)/2, then the function returns this solution.\n",
    "        If all signs of values f(a_n), f(b_n) and f(m_n) are the same at any\n",
    "        iteration, the bisection method fails and return None.\n",
    "\n",
    "    Examples\n",
    "    --------\n",
    "    >>> f = lambda x: x**2 - x - 1\n",
    "    >>> bisection(f,1,2,25)\n",
    "    1.618033990263939\n",
    "    >>> f = lambda x: (2*x - 1)*(x - 3)\n",
    "    >>> bisection(f,0,1,10)\n",
    "    0.5\n",
    "    '''\n",
    "    if f(a)*f(b) >= 0:\n",
    "        print(\"Bisection method fails.\")\n",
    "        return None\n",
    "    a_n = a\n",
    "    b_n = b\n",
    "    for n in range(1,N+1):\n",
    "        m_n = (a_n + b_n)/2\n",
    "        f_m_n = f(m_n)\n",
    "        if f(a_n)*f_m_n < 0:\n",
    "            a_n = a_n\n",
    "            b_n = m_n\n",
    "        elif f(b_n)*f_m_n < 0:\n",
    "            a_n = m_n\n",
    "            b_n = b_n\n",
    "        elif f_m_n == 0:\n",
    "            print(\"Found exact solution.\")\n",
    "            return m_n\n",
    "        else:\n",
    "            print(\"Bisection method fails.\")\n",
    "            return None\n",
    "    return (a_n + b_n)/2"
   ]
  },
  {
   "cell_type": "code",
   "execution_count": 2,
   "metadata": {
    "slideshow": {
     "slide_type": "subslide"
    }
   },
   "outputs": [
    {
     "name": "stdout",
     "output_type": "stream",
     "text": [
      "Found exact solution.\n",
      "root  = -1.00\n"
     ]
    }
   ],
   "source": [
    "f = lambda x: x*(x+1)\n",
    "\n",
    "root = bisection(f,-2,-.5,100)    \n",
    "\n",
    "print('root  = %1.2f'%root)"
   ]
  },
  {
   "cell_type": "markdown",
   "metadata": {
    "slideshow": {
     "slide_type": "subslide"
    }
   },
   "source": [
    "* Method only works when $f$ changes sign at the root\n",
    "* Method converges lineary"
   ]
  },
  {
   "cell_type": "markdown",
   "metadata": {
    "slideshow": {
     "slide_type": "subslide"
    }
   },
   "source": [
    "## Fixed-point iteration\n",
    "\n",
    "* Express $f(x) = 0$ as $g(x) = x$\n",
    "* Apply *fixed-point iteration* $x_{k+1} = g(x_k)$."
   ]
  },
  {
   "cell_type": "code",
   "execution_count": 3,
   "metadata": {
    "slideshow": {
     "slide_type": "subslide"
    }
   },
   "outputs": [
    {
     "name": "stdout",
     "output_type": "stream",
     "text": [
      "error = 8.10e-01\n",
      "error = 6.56e-01\n",
      "error = 4.30e-01\n",
      "error = 1.85e-01\n",
      "error = 3.43e-02\n",
      "error = 1.18e-03\n",
      "error = 1.39e-06\n",
      "error = 1.93e-12\n",
      "error = 3.73e-24\n",
      "error = 1.39e-47\n"
     ]
    }
   ],
   "source": [
    "g = lambda x : -x**2\n",
    "r = 0\n",
    "x = .9\n",
    "\n",
    "for k in range(10):\n",
    "    x = g(x)\n",
    "    print('error = %1.2e'%abs(x-r))"
   ]
  },
  {
   "cell_type": "markdown",
   "metadata": {
    "slideshow": {
     "slide_type": "subslide"
    }
   },
   "source": [
    "* Requires clever choice of $g$\n",
    "* Some choices are better than others\n",
    "* Method converges *at least* lineary, sometimes faster"
   ]
  },
  {
   "cell_type": "markdown",
   "metadata": {
    "slideshow": {
     "slide_type": "subslide"
    }
   },
   "source": [
    "## Newton's method\n",
    "\n",
    "Construct $g$ such that $g'(x^*) = 0$:\n",
    "\n",
    "$$g(x) = x - f(x)/f'(x).$$"
   ]
  },
  {
   "cell_type": "markdown",
   "metadata": {
    "slideshow": {
     "slide_type": "fragment"
    }
   },
   "source": [
    "* What happens when $f'(x^*) = 0$?"
   ]
  },
  {
   "cell_type": "code",
   "execution_count": 4,
   "metadata": {
    "slideshow": {
     "slide_type": "skip"
    }
   },
   "outputs": [],
   "source": [
    "def newton(f,Df,x0,max_iter,epsilon=1e-16):\n",
    "    '''Approximate solution of f(x)=0 by Newton's method.\n",
    "\n",
    "    Parameters\n",
    "    ----------\n",
    "    f : function\n",
    "        Function for which we are searching for a solution f(x)=0.\n",
    "    Df : function\n",
    "        Derivative of f(x).\n",
    "    x0 : number\n",
    "        Initial guess for a solution f(x)=0.\n",
    "    epsilon : number\n",
    "        Stopping criteria is abs(f(x)) < epsilon.\n",
    "    max_iter : integer\n",
    "        Maximum number of iterations of Newton's method.\n",
    "\n",
    "    Returns\n",
    "    -------\n",
    "    xn : number\n",
    "        Implement Newton's method: compute the linear approximation\n",
    "        of f(x) at xn and find x intercept by the formula\n",
    "            x = xn - f(xn)/Df(xn)\n",
    "        Continue until abs(f(xn)) < epsilon and return xn.\n",
    "        If Df(xn) == 0, return None. If the number of iterations\n",
    "        exceeds max_iter, then return None.\n",
    "\n",
    "    Examples\n",
    "    --------\n",
    "    >>> f = lambda x: x**2 - x - 1\n",
    "    >>> Df = lambda x: 2*x - 1\n",
    "    >>> newton(f,Df,1,1e-8,10)\n",
    "    Found solution after 5 iterations.\n",
    "    1.618033988749989\n",
    "    '''\n",
    "    xn = x0\n",
    "    for n in range(0,max_iter):\n",
    "        fxn = f(xn)\n",
    "        if abs(fxn) < epsilon:\n",
    "            print('Found solution after',n,'iterations.')\n",
    "            return xn\n",
    "        Dfxn = Df(xn)\n",
    "        if Dfxn == 0:\n",
    "            print('Zero derivative. No solution found.')\n",
    "            return None\n",
    "        xn = xn - fxn/Dfxn\n",
    "    print('Exceeded maximum iterations. No solution found.')\n",
    "    return None"
   ]
  },
  {
   "cell_type": "code",
   "execution_count": 5,
   "metadata": {
    "slideshow": {
     "slide_type": "subslide"
    }
   },
   "outputs": [
    {
     "name": "stdout",
     "output_type": "stream",
     "text": [
      "Found solution after 27 iterations.\n",
      "root  = 0.00\n"
     ]
    }
   ],
   "source": [
    "f  = lambda x: x**2\n",
    "df = lambda x: 2*x\n",
    "\n",
    "root = newton(f,df,1,100)    \n",
    "\n",
    "print('root  = %1.2f'%root)"
   ]
  },
  {
   "cell_type": "markdown",
   "metadata": {
    "slideshow": {
     "slide_type": "subslide"
    }
   },
   "source": [
    "* Quadratic convergence if $f'(x_*)\\not = 0$, linear convergence otherwise\n",
    "* Need to start sufficiently close to a root"
   ]
  },
  {
   "cell_type": "markdown",
   "metadata": {
    "slideshow": {
     "slide_type": "subslide"
    }
   },
   "source": [
    "## Basin of attraction\n",
    "\n",
    "* The *basin of attraction* of a root consists of all points $x_0$ for which Newton's method converges to that root."
   ]
  },
  {
   "cell_type": "code",
   "execution_count": 6,
   "metadata": {
    "slideshow": {
     "slide_type": "skip"
    }
   },
   "outputs": [
    {
     "data": {
      "image/png": "[encoded data removed]",
      "text/plain": [
       "<Figure size 432x288 with 1 Axes>"
      ]
     },
     "metadata": {
      "needs_background": "light"
     },
     "output_type": "display_data"
    }
   ],
   "source": [
    "import numpy as np\n",
    "import matplotlib.pyplot as plt\n",
    "\n",
    "f  = lambda x: x*(x+1)\n",
    "df = lambda x: 2*x+1\n",
    "\n",
    "x0 = np.linspace(-10,10,100)\n",
    "x = np.copy(x0)\n",
    "\n",
    "for k in range(10):\n",
    "    x = x - f(x) / df(x)\n",
    "\n",
    "plt.plot(x0,f(x0))\n",
    "plt.plot(x0,x,'*')\n",
    "plt.ylim([-2,2])\n",
    "\n",
    "plt.xlabel(r'$x$')\n",
    "\n",
    "plt.savefig('./figures/fig31.png',dpi=300)"
   ]
  },
  {
   "cell_type": "markdown",
   "metadata": {
    "slideshow": {
     "slide_type": "subslide"
    }
   },
   "source": [
    "![](./figures/fig31.png)"
   ]
  },
  {
   "cell_type": "markdown",
   "metadata": {
    "slideshow": {
     "slide_type": "subslide"
    }
   },
   "source": [
    "## Complex roots\n",
    "\n",
    "* Newton's method also works for complex roots"
   ]
  },
  {
   "cell_type": "code",
   "execution_count": 7,
   "metadata": {
    "slideshow": {
     "slide_type": "subslide"
    }
   },
   "outputs": [
    {
     "name": "stdout",
     "output_type": "stream",
     "text": [
      "Found solution after 60 iterations.\n",
      "(1.930484453333913e-21+1j)\n"
     ]
    }
   ],
   "source": [
    "f  = lambda x: x**2 + 1\n",
    "df = lambda x: 2*x\n",
    "\n",
    "root = newton(f,df,2+1e-16*1j,100) \n",
    "print(root)"
   ]
  },
  {
   "cell_type": "code",
   "execution_count": 8,
   "metadata": {
    "slideshow": {
     "slide_type": "skip"
    }
   },
   "outputs": [
    {
     "data": {
      "image/png": "[encoded data removed]",
      "text/plain": [
       "<Figure size 432x288 with 1 Axes>"
      ]
     },
     "metadata": {
      "needs_background": "light"
     },
     "output_type": "display_data"
    }
   ],
   "source": [
    "import numpy as np\n",
    "import matplotlib.pyplot as plt\n",
    "\n",
    "x = np.linspace(-1,1,1000)\n",
    "y = np.linspace(-1,1,1000)\n",
    "\n",
    "xx, yy = np.meshgrid(x,y)\n",
    "zz = xx + 1j*yy\n",
    "\n",
    "f  = lambda x: x**3 + 1\n",
    "df = lambda x: 3*x**2\n",
    "\n",
    "for k in range(20):\n",
    "    zz = zz - f(zz) / df(zz)\n",
    "    \n",
    "plt.imshow(np.angle(zz),extent=(-1,1,-1,1))\n",
    "plt.xlabel(r'$\\Re(x)$')\n",
    "plt.ylabel(r'$\\Im(x)$')\n",
    "\n",
    "plt.savefig('./figures/fig32.png',dpi=300)"
   ]
  },
  {
   "cell_type": "markdown",
   "metadata": {
    "slideshow": {
     "slide_type": "subslide"
    }
   },
   "source": [
    "![](./figures/fig32.png)"
   ]
  },
  {
   "cell_type": "markdown",
   "metadata": {
    "slideshow": {
     "slide_type": "slide"
    }
   },
   "source": [
    "# Finding multiple roots"
   ]
  },
  {
   "cell_type": "markdown",
   "metadata": {
    "slideshow": {
     "slide_type": "subslide"
    }
   },
   "source": [
    "> Often, there will be multipe roots, how do we find them all?"
   ]
  },
  {
   "cell_type": "markdown",
   "metadata": {
    "slideshow": {
     "slide_type": "subslide"
    }
   },
   "source": [
    "## Horner's method\n",
    "\n",
    "* A simple idea is to use Newton to find a root; divide it out, and continue.\n",
    "* To do this, we need to implement polynomial division"
   ]
  },
  {
   "cell_type": "markdown",
   "metadata": {
    "slideshow": {
     "slide_type": "subslide"
    }
   },
   "source": [
    "### An example\n",
    "\n",
    "Divide $x^{3}-6x^{2}+11x-6$ by $x-2$:\n",
    "\n",
    "|.  |.|.|.|.|\n",
    "|-------|-----|-----|-----|-----|\n",
    "| 2     | 1   |  -6 | 11  | -6  |\n",
    "|       | 0   |  .   |.    |.    |\n",
    "|       | .   | .  |.    |.    |\n"
   ]
  },
  {
   "cell_type": "markdown",
   "metadata": {
    "slideshow": {
     "slide_type": "subslide"
    }
   },
   "source": [
    "### An example\n",
    "\n",
    "Divide $x^{3}-6x^{2}+11x-6$ by $x-2$:\n",
    "\n",
    "|.  |.|.|.|.|\n",
    "|-------|-----|-----|-----|-----|\n",
    "| 2     | 1   |  -6 | 11  | -6  |\n",
    "|       | 0   |  2   |.    |.    |\n",
    "|       | 1   | .  |.    |.    |\n"
   ]
  },
  {
   "cell_type": "markdown",
   "metadata": {
    "slideshow": {
     "slide_type": "subslide"
    }
   },
   "source": [
    "### An example\n",
    "\n",
    "Divide $x^{3}-6x^{2}+11x-6$ by $x-2$:\n",
    "\n",
    "|.  |.|.|.|.|\n",
    "|-------|-----|-----|-----|-----|\n",
    "| 2     | 1   |  -6 | 11  | -6  |\n",
    "|       | 0   |  2   |-8    |.    |\n",
    "|       | 1   | -4  |.   |.    |"
   ]
  },
  {
   "cell_type": "markdown",
   "metadata": {
    "slideshow": {
     "slide_type": "subslide"
    }
   },
   "source": [
    "### An example\n",
    "\n",
    "Divide $x^{3}-6x^{2}+11x-6$ by $x-2$:\n",
    "\n",
    "|.  |.|.|.|.|\n",
    "|-------|-----|-----|-----|-----|\n",
    "| 2     | 1   |  -6 | 11  | -6  |\n",
    "|       | 0   |  2   |-8    |6    |\n",
    "|       | 1   | -4  |3    |0    |\n",
    "\n",
    "This yields\n",
    "\n",
    "$$x^2 - 4x + 3.$$"
   ]
  },
  {
   "cell_type": "code",
   "execution_count": 9,
   "metadata": {
    "slideshow": {
     "slide_type": "skip"
    }
   },
   "outputs": [],
   "source": [
    "import numpy as np\n",
    "def horner(a, x0):\n",
    "    \"\"\"\n",
    "    Horner's method for polynomial evaluation and division\n",
    "    \n",
    "    input:\n",
    "        c - array of length n+1 with coefficients: f = a[0] + a[1]x + a[2]x^2 + ...\n",
    "        x0 - point of evaluation\n",
    "    output:\n",
    "        b[0] - f(x0)\n",
    "        b[1:] - array of coefficients \n",
    "    \"\"\"\n",
    "    \n",
    "    n = len(a) - 1\n",
    "    b = np.zeros(n+1)\n",
    "    b[n] = a[n]\n",
    "    for i in range(n,0,-1):\n",
    "        b[i-1] = a[i-1] + b[i]*x0\n",
    "    return b[0],b[1:]\n",
    "\n",
    "def diff(a):\n",
    "    \"\"\"\n",
    "    differentiate polynomial\n",
    "    \"\"\"\n",
    "    \n",
    "    n = len(a) - 1\n",
    "    b = np.zeros(n)\n",
    "    for i in range(n):\n",
    "        b[i] = (i+1)*a[i+1]\n",
    "    return b\n",
    "\n",
    "def root(a,x,epsilon=1e-6,niter=10):\n",
    "    \"\"\"\n",
    "    Newton's method for rootfinding of a polynomial\n",
    "    \"\"\"\n",
    "    it = 0\n",
    "    done = False\n",
    "    \n",
    "    while not done:\n",
    "        f,_  = horner(a,x)\n",
    "        df,_ = horner(diff(a),x)\n",
    "        \n",
    "        x -= f / df   \n",
    "        done = (np.abs(f) <= epsilon) or (it > niter)\n",
    "    return x"
   ]
  },
  {
   "cell_type": "code",
   "execution_count": 10,
   "metadata": {
    "slideshow": {
     "slide_type": "subslide"
    }
   },
   "outputs": [
    {
     "name": "stdout",
     "output_type": "stream",
     "text": [
      "[ 1. -1.]\n"
     ]
    }
   ],
   "source": [
    "a = [-1,0,1] #x^2 -1\n",
    "roots = np.zeros(len(a)-1)\n",
    "\n",
    "for i in range(len(roots)):\n",
    "    roots[i] = root(a,2)\n",
    "    a0,a = horner(a,roots[i])\n",
    "\n",
    "print(roots)"
   ]
  },
  {
   "cell_type": "code",
   "execution_count": 11,
   "metadata": {
    "slideshow": {
     "slide_type": "subslide"
    }
   },
   "outputs": [
    {
     "name": "stdout",
     "output_type": "stream",
     "text": [
      "[3. 2. 1.]\n"
     ]
    }
   ],
   "source": [
    "a = [-6,11,-6,1] # (x-1)(x-2)(x-3) =  x^3-6x^2+11x-6\n",
    "roots = np.zeros(len(a)-1)\n",
    "\n",
    "for i in range(len(roots)):\n",
    "    roots[i] = root(a,5)\n",
    "    a0,a = horner(a,roots[i])\n",
    "\n",
    "print(roots)"
   ]
  },
  {
   "cell_type": "markdown",
   "metadata": {
    "slideshow": {
     "slide_type": "subslide"
    }
   },
   "source": [
    "### Why does it work?\n",
    "\n",
    "Given\n",
    "\n",
    "$$f(x) = \\sum_{i=0}^n a_i x^{i},$$\n",
    "\n",
    "define\n",
    "\n",
    "$$b_{i-1} = a_{i-1} + b_i x_0, \\quad b_n = a_n.$$\n",
    "\n",
    "It can be shown that\n",
    "\n",
    "$$f(x) = \\left(\\sum_{i=1}^n b_{i}x^{i-1}\\right)(x-x_0) + b_0.$$"
   ]
  },
  {
   "cell_type": "markdown",
   "metadata": {
    "slideshow": {
     "slide_type": "subslide"
    }
   },
   "source": [
    "## The companion matrix\n",
    "\n",
    "Alternatively, we can construct a matrix whose eigenvalues are exactly the roots of the polynomial.\n",
    "\n",
    "For \n",
    "\n",
    "$$f(x) = \\sum_{i=0}^n a_i x^{i},$$\n",
    "\n",
    "with $a_n = 1$, we define the *companion matrix* by \n",
    "\n",
    "$$C[f] = \\left(\\begin{matrix} 0 & 0 & \\ldots &0 & -a_0 \\\\ 1 & 0 & \\ldots & 0 & -a_1 \\\\ 0 & 1 & \\ldots &0 & -a_2 \\\\ 0 & 0 & \\ddots &0& -a_3 \\\\ \\vdots & & & & \\vdots\\\\ 0 & 0 & \\ldots  & 1 & -a_{n-1}\\end{matrix}\\right).$$"
   ]
  },
  {
   "cell_type": "code",
   "execution_count": 12,
   "metadata": {
    "slideshow": {
     "slide_type": "skip"
    }
   },
   "outputs": [],
   "source": [
    "def companion(a):\n",
    "    \"\"\"\n",
    "    Generate companion matrix for given polynomial\n",
    "    \"\"\"\n",
    "    \n",
    "    n = len(a) - 1\n",
    "    C = np.diag(np.ones(n-1),-1)\n",
    "    C[:,-1] = -np.array(a[0:-1])/a[n]\n",
    "    \n",
    "    return C"
   ]
  },
  {
   "cell_type": "code",
   "execution_count": 13,
   "metadata": {
    "slideshow": {
     "slide_type": "subslide"
    }
   },
   "outputs": [
    {
     "name": "stdout",
     "output_type": "stream",
     "text": [
      "[[  0.   0.   6.]\n",
      " [  1.   0. -11.]\n",
      " [  0.   1.   6.]]\n"
     ]
    }
   ],
   "source": [
    "a = [-6,11,-6,1]\n",
    "C = companion(a)\n",
    "\n",
    "print(C)"
   ]
  },
  {
   "cell_type": "markdown",
   "metadata": {
    "slideshow": {
     "slide_type": "subslide"
    }
   },
   "source": [
    "## Finding the eigenvalues of a matrix\n",
    "\n",
    "> The basic observation is that $A^k v$ will be dominated by contributions corresponding to the largest eigenvalue(s).\n"
   ]
  },
  {
   "cell_type": "markdown",
   "metadata": {
    "slideshow": {
     "slide_type": "fragment"
    }
   },
   "source": [
    "Once we found one eigenvector we can restrict the iteration to the remaining subspace by projection."
   ]
  },
  {
   "cell_type": "code",
   "execution_count": 14,
   "metadata": {
    "slideshow": {
     "slide_type": "subslide"
    }
   },
   "outputs": [
    {
     "name": "stdout",
     "output_type": "stream",
     "text": [
      "12.111637996077764\n",
      "5.360092423997607\n",
      "4.019936923821336\n",
      "3.5420500974838873\n",
      "3.3158936685380977\n",
      "3.1935220362686505\n",
      "3.12214329866637\n",
      "3.0785511195452195\n",
      "3.0511332911803546\n",
      "3.033551935039227\n"
     ]
    }
   ],
   "source": [
    "a = [-6,11,-6,1]\n",
    "C = companion(a)\n",
    "\n",
    "u = np.random.randn(3)\n",
    "u = u/np.linalg.norm(u)\n",
    "for k in range(10):\n",
    "    u = C@u\n",
    "    mu = np.linalg.norm(u)\n",
    "    u = u/mu\n",
    "    \n",
    "    print(mu)\n",
    "u1 = u\n",
    "mu1 = mu"
   ]
  },
  {
   "cell_type": "code",
   "execution_count": 15,
   "metadata": {
    "slideshow": {
     "slide_type": "subslide"
    }
   },
   "outputs": [
    {
     "name": "stdout",
     "output_type": "stream",
     "text": [
      "2.353291653627432\n",
      "6.793638158428624\n",
      "2.7090822610227128\n",
      "2.248526847890916\n",
      "2.098337480802392\n",
      "2.035295150573659\n",
      "2.0060833974984034\n",
      "1.9919292242562445\n",
      "1.98492256653692\n",
      "1.981417328792663\n"
     ]
    }
   ],
   "source": [
    "P = (np.eye(3) - np.outer(u1,u1))\n",
    "u = np.random.randn(3)\n",
    "u = u/np.linalg.norm(u)\n",
    "for k in range(10):\n",
    "    u = C@P@u\n",
    "    mu = np.linalg.norm(u)\n",
    "    u = u/mu\n",
    "    \n",
    "    print(mu)\n",
    "u2 = u\n",
    "mu2 = mu"
   ]
  },
  {
   "cell_type": "code",
   "execution_count": 16,
   "metadata": {
    "slideshow": {
     "slide_type": "subslide"
    }
   },
   "outputs": [
    {
     "name": "stdout",
     "output_type": "stream",
     "text": [
      "12.536679928761659\n",
      "0.2542383943009647\n",
      "0.9982139137994562\n",
      "0.9982139137994448\n",
      "0.998213913799438\n",
      "0.9982139137994464\n",
      "0.9982139137994409\n",
      "0.998213913799446\n",
      "0.9982139137994424\n",
      "0.9982139137994419\n"
     ]
    }
   ],
   "source": [
    "P = (np.eye(3) - np.outer(u1,u1))@(np.eye(3) - np.outer(u2,u2))\n",
    "u = np.random.randn(3)\n",
    "u = u/np.linalg.norm(u)\n",
    "for k in range(10):\n",
    "    u = C@P@u\n",
    "    mu = np.linalg.norm(u)\n",
    "    u = u/mu\n",
    "    \n",
    "    print(mu)\n",
    "u3 = u\n",
    "mu3 = mu"
   ]
  },
  {
   "cell_type": "markdown",
   "metadata": {
    "slideshow": {
     "slide_type": "subslide"
    }
   },
   "source": [
    "**The previous example is purely educational; in practice one should approach it differently!!**\n"
   ]
  },
  {
   "cell_type": "markdown",
   "metadata": {
    "slideshow": {
     "slide_type": "slide"
    }
   },
   "source": [
    "# Computing in finite accuracy"
   ]
  },
  {
   "cell_type": "markdown",
   "metadata": {
    "slideshow": {
     "slide_type": "subslide"
    }
   },
   "source": [
    "> We cannot compute in $\\mathbb{R}$, so what do we do?"
   ]
  },
  {
   "cell_type": "markdown",
   "metadata": {
    "slideshow": {
     "slide_type": "subslide"
    }
   },
   "source": [
    "# Floating point arithemetic\n",
    "\n",
    "The floating point representation of a number $x \\in \\mathbb{R}$ has the form\n",
    "\n",
    "$$\\text{fl}(x) = \\pm\\sum_{k=1}^n d_k \\beta^{e - k},$$\n",
    "\n",
    "with \n",
    "\n",
    "* $\\beta \\in \\mathbb{Z}$, the base\n",
    "* $U \\leq e \\leq U \\in \\mathbb{Z}$, the exponent\n",
    "* $d_k \\in \\{0, \\ldots, \\beta-1\\}$ the digits"
   ]
  },
  {
   "cell_type": "markdown",
   "metadata": {
    "slideshow": {
     "slide_type": "subslide"
    }
   },
   "source": [
    "Any real number $\\beta^{L-1} \\leq x \\leq \\beta^{U}(1 - \\beta^{-n})$ can be represented with error\n",
    "\n",
    "$$\\frac{|x - \\text{fl}(x)|}{|x|} \\leq \\frac{1}{2}\\beta^{-n} \\equiv \\eta.$$"
   ]
  },
  {
   "cell_type": "markdown",
   "metadata": {
    "slideshow": {
     "slide_type": "fragment"
    }
   },
   "source": [
    "\n",
    "This implies that $\\exists \\epsilon$ with $|\\epsilon| \\leq \\eta$\n",
    "\n",
    "$$\\text{fl}(x) = x(1 + \\epsilon)$$"
   ]
  },
  {
   "cell_type": "markdown",
   "metadata": {
    "slideshow": {
     "slide_type": "fragment"
    }
   },
   "source": [
    "Special values are reserved for \n",
    "\n",
    "* small numbers; `0`\n",
    "* large numbers; `Inf`\n",
    "* undefined computations; `NaN`"
   ]
  },
  {
   "cell_type": "markdown",
   "metadata": {
    "slideshow": {
     "slide_type": "subslide"
    }
   },
   "source": [
    "Elementary operations $\\circ \\in \\{+, -, *, /\\}$ preserve accuracy:\n",
    "\n",
    "$$\\text{fl}( \\text{fl}(x) \\circ \\text{fl}(y) ) = ( \\text{fl}(x) \\circ \\text{fl}(y) ) ( 1 + \\epsilon).$$"
   ]
  },
  {
   "cell_type": "markdown",
   "metadata": {
    "slideshow": {
     "slide_type": "fragment"
    }
   },
   "source": [
    "**However, the order of the operations matter!!**"
   ]
  },
  {
   "cell_type": "code",
   "execution_count": 17,
   "metadata": {
    "slideshow": {
     "slide_type": "subslide"
    }
   },
   "outputs": [
    {
     "name": "stdout",
     "output_type": "stream",
     "text": [
      "error (increasing) = 2.93e-03\n",
      "error (decreasing) = 7.81e-03\n",
      "error (random)     = 2.93e-03\n"
     ]
    }
   ],
   "source": [
    "# partial sum of (pi k)^3\n",
    "\n",
    "def sum(a):\n",
    "    s = a[0]\n",
    "    n = len(a)\n",
    "    for k in range(1,n):\n",
    "        s += a[k]\n",
    "    return s\n",
    "\n",
    "n = 1000\n",
    "\n",
    "a = [(np.pi*k)**3 for k in range(1,n+1)]\n",
    "S = (np.pi**3)*(n*(n+1)/2)**2\n",
    "\n",
    "S1 = sum(a)\n",
    "S2 = sum(a[::-1])\n",
    "np.random.shuffle(a)\n",
    "S3 = sum(a)\n",
    "\n",
    "print('error (increasing) = %1.2e'%abs(S-S1))\n",
    "print('error (decreasing) = %1.2e'%abs(S-S2))\n",
    "print('error (random)     = %1.2e'%abs(S-S3))"
   ]
  },
  {
   "cell_type": "code",
   "execution_count": 18,
   "metadata": {
    "slideshow": {
     "slide_type": "subslide"
    }
   },
   "outputs": [
    {
     "name": "stdout",
     "output_type": "stream",
     "text": [
      "x_0 =  1.42108547152020037174e-14\n",
      "x_1 = -2.00000000000000000000e+02\n"
     ]
    }
   ],
   "source": [
    "# has roots x0 = −200.0000000000000075… and x1 = 0.0000000000000075\n",
    "a = 1\n",
    "b = 200\n",
    "c = -0.0000000000015\n",
    "\n",
    "x0 = (-b + np.sqrt(b**2 - 4*a*c))/2\n",
    "x1 = (-b - np.sqrt(b**2 - 4*a*c))/2\n",
    "\n",
    "print('x_0 = % 1.20e' % x0)\n",
    "print('x_1 = % 1.20e' % x1)"
   ]
  },
  {
   "cell_type": "code",
   "execution_count": 19,
   "metadata": {
    "slideshow": {
     "slide_type": "skip"
    }
   },
   "outputs": [
    {
     "data": {
      "image/png": "[encoded data removed]",
      "text/plain": [
       "<Figure size 432x288 with 1 Axes>"
      ]
     },
     "metadata": {
      "needs_background": "light"
     },
     "output_type": "display_data"
    }
   ],
   "source": [
    "# \n",
    "def f1(x):\n",
    "    y = 0*x + 1\n",
    "    for k in range(1,21):\n",
    "        y = y*(x - k)\n",
    "    return y\n",
    "\n",
    "def f2(x):\n",
    "    return x**20 - 210*x**19 + 20615*x**18 - 1256850*x**17 + 53327946*x**16 - 1672280820*x**15 + 40171771630*x**14 - 756111184500*x**13 + 11310276995381*x**12 - 135585182899530*x**11 + 1307535010540395*x**10 - 10142299865511450*x**9 + 63030812099294896*x**8 - 311333643161390640*x**7 + 1206647803780373360*x**6 - 3599979517947607200*x**5 + 8037811822645051776*x**4 - 12870931245150988800*x**3 + 13803759753640704000*x**2 - 8752948036761600000*x + 2432902008176640000\n",
    "#\n",
    "x0 = 10\n",
    "delta = 1e-2\n",
    "x = np.linspace(x0-delta,x0+delta,100)\n",
    "\n",
    "fig, ax = plt.subplots()\n",
    "\n",
    "ax.plot(x,f1(x),label=r'$(x-1)(x-2)\\ldots (x-20)$')\n",
    "ax.plot(x,f2(x),label=r'$x^{20} - 210 x^{19} + \\ldots $')\n",
    "ax.set_xticks([x0-delta,x0,x0+delta])\n",
    "ax.set_xticklabels([r'$x_0-\\delta$',r'$x_0$',r'$x_0+\\delta$'])\n",
    "ax.legend()\n",
    "fig.savefig('./figures/fig33.png',dpi=300)\n"
   ]
  },
  {
   "cell_type": "markdown",
   "metadata": {
    "slideshow": {
     "slide_type": "subslide"
    }
   },
   "source": [
    "![](./figures/fig33.png)"
   ]
  },
  {
   "cell_type": "markdown",
   "metadata": {
    "slideshow": {
     "slide_type": "subslide"
    }
   },
   "source": [
    "## Error analysis of the fixed-point iteration\n",
    "\n",
    "Assuming we can evaluate $g$ with relative accuracy $\\eta$, the fixed point iteration becomes\n",
    "\n",
    "$$\\widetilde{x}_{k+1} = g(\\widetilde{x}_k)(1 + \\epsilon).$$\n",
    "\n",
    "The error $e_k = \\widetilde{x}_k - x_k$ then obeys (assuming $|g| \\leq M$ and $|g'| \\leq L < 1$)\n",
    "\n",
    "$$|e_{k+1}| \\leq L |e_k| + \\eta M.$$\n",
    "\n",
    "We then find\n",
    "\n",
    "$$|e_{k}| \\leq L^n |e_0| + \\eta M\\cdot \\left(\\frac{1-L^n}{1-L}\\right).$$"
   ]
  },
  {
   "cell_type": "markdown",
   "metadata": {
    "slideshow": {
     "slide_type": "slide"
    }
   },
   "source": [
    "# The (in)stability of Gaussian elimination"
   ]
  },
  {
   "cell_type": "markdown",
   "metadata": {
    "slideshow": {
     "slide_type": "subslide"
    }
   },
   "source": [
    "> How do round-off errors propagate through Gaussian elimination?"
   ]
  },
  {
   "cell_type": "markdown",
   "metadata": {
    "slideshow": {
     "slide_type": "subslide"
    }
   },
   "source": [
    "## An example\n",
    "\n",
    "We want to solve $Ax = b$ with $b = (2,1,0, -1, -2, \\ldots, -n+2)$ and  \n",
    "\n",
    "$$A = \\left(\\begin{matrix} 1 & 0 & \\ldots & \\ldots & 0 & 1 \\\\ -1 & 1 & 0 & \\ldots & 0 & 1 \\\\ -1 & -1 & 1 & \\ddots & \\vdots & 1 \\\\ \\vdots & \\ddots & -1 & \\ddots & 0 & \\vdots \\\\ \\vdots & \\ddots & \\ddots & \\ddots & \\ddots & 1 \\\\ -1 & \\ldots & \\ldots & \\ldots & -1 & 1\\end{matrix}\\right).$$ \n",
    "\n",
    "The solution is $x = (1,1,\\ldots, 1)$."
   ]
  },
  {
   "cell_type": "code",
   "execution_count": 20,
   "metadata": {
    "slideshow": {
     "slide_type": "skip"
    }
   },
   "outputs": [
    {
     "name": "stdout",
     "output_type": "stream",
     "text": [
      "N   | Residual | Error    |\n",
      "-- -|----------|----------|\n",
      " 20 | 0.00e+00 | 0.00e+00 |\n",
      " 40 | 0.00e+00 | 0.00e+00 |\n",
      " 60 | 3.25e-02 | 3.16e-01 |\n",
      " 80 | 1.89e-01 | 5.70e-01 |\n",
      "100 | 3.19e-01 | 6.78e-01 |\n"
     ]
    }
   ],
   "source": [
    "N = [20, 40, 60, 80, 100]\n",
    "residual = []\n",
    "error = []\n",
    "\n",
    "for n in N:\n",
    "    A = np.eye(n) - np.tril(np.ones((n,n)),-1)\n",
    "    A[:,-1] = 1\n",
    "    x = np.ones(n)\n",
    "    b = A@x\n",
    "    xh = np.linalg.solve(A, b)\n",
    "    residual.append(np.linalg.norm(A@xh - b)/np.linalg.norm(b))\n",
    "    error.append(np.linalg.norm(x - xh)/np.linalg.norm(x))\n",
    "   \n",
    "print('N   | Residual | Error    |')\n",
    "print('-- -|----------|----------|')\n",
    "for i in range(len(N)):\n",
    "    print('%3d | %1.2e | %1.2e |'%(N[i], residual[i], error[i]))"
   ]
  },
  {
   "cell_type": "markdown",
   "metadata": {
    "slideshow": {
     "slide_type": "subslide"
    }
   },
   "source": [
    "n   | Residual | Error    |\n",
    "---|----------|----------|\n",
    " 20 | 0.00e+00 | 0.00e+00 |\n",
    " 40 | 0.00e+00 | 0.00e+00 |\n",
    " 60 | 3.25e-02 | 3.16e-01 |\n",
    " 80 | 1.89e-01 | 5.70e-01 |\n",
    "100 | 3.19e-01 | 6.78e-01 |"
   ]
  },
  {
   "cell_type": "markdown",
   "metadata": {
    "slideshow": {
     "slide_type": "subslide"
    }
   },
   "source": [
    "## Gaussian elimination is unstable!\n",
    "\n",
    "To understand what is happening, let's try it by hand on \n",
    "\n",
    "$$A = \\left(\\begin{matrix} 1 & 0 & 0 & 1 \\\\ -1 & 1 & 0 & 1 \\\\ 0 & -1 & 1 & 1 \\\\ 0 & 0 & -1 & 1\\end{matrix} \\right)$$\n"
   ]
  },
  {
   "cell_type": "markdown",
   "metadata": {
    "slideshow": {
     "slide_type": "subslide"
    }
   },
   "source": [
    "> We find that the quantitities involved may get exponentially big, to the point where they can no longer be represented as floating point number. Moreover, this causes rounding errors to accumulate exponentially."
   ]
  },
  {
   "cell_type": "markdown",
   "metadata": {
    "slideshow": {
     "slide_type": "slide"
    }
   },
   "source": [
    "# Summary"
   ]
  },
  {
   "cell_type": "markdown",
   "metadata": {
    "slideshow": {
     "slide_type": "subslide"
    }
   },
   "source": [
    "We can implement the suggested elimination procedure using numerical rootfinding for small problems, however\n",
    "\n",
    "* working with higher-order polynomials may be numerically unstable\n",
    "* rounding errors may grow exponentially in an elimination-procedure"
   ]
  }
 ],
 "metadata": {
  "celltoolbar": "Slideshow",
  "kernelspec": {
   "display_name": "Python 3",
   "language": "python",
   "name": "python3"
  },
  "language_info": {
   "codemirror_mode": {
    "name": "ipython",
    "version": 3
   },
   "file_extension": ".py",
   "mimetype": "text/x-python",
   "name": "python",
   "nbconvert_exporter": "python",
   "pygments_lexer": "ipython3",
   "version": "3.8.5"
  }
 },
 "nbformat": 4,
 "nbformat_minor": 4
}
